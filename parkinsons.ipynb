{
  "nbformat": 4,
  "nbformat_minor": 0,
  "metadata": {
    "colab": {
      "provenance": [],
      "authorship_tag": "ABX9TyNtbwirCNlFqEzI3gLjQKri",
      "include_colab_link": true
    },
    "kernelspec": {
      "name": "python3",
      "display_name": "Python 3"
    },
    "language_info": {
      "name": "python"
    }
  },
  "cells": [
    {
      "cell_type": "markdown",
      "metadata": {
        "id": "view-in-github",
        "colab_type": "text"
      },
      "source": [
        "<a href=\"https://colab.research.google.com/github/yotam-biu/ps9/blob/main/parkinsons.ipynb\" target=\"_parent\"><img src=\"https://colab.research.google.com/assets/colab-badge.svg\" alt=\"Open In Colab\"/></a>"
      ]
    },
    {
      "cell_type": "code",
      "execution_count": null,
      "metadata": {
        "id": "UoYQV1UbSAuF"
      },
      "outputs": [],
      "source": [
        "%load_ext autoreload\n",
        "%autoreload 2\n",
        "\n",
        "# Download the data from your GitHub repository\n",
        "!wget https://raw.githubusercontent.com/yotam-biu/ps9/main/parkinsons.csv -O /content/parkinsons.csv"
      ]
    },
    {
      "cell_type": "markdown",
      "source": [
        "\n",
        "\n",
        "## 1. **Load the dataset:**  \n",
        "\n",
        "   After running the first cell of this notebook, the file `parkinson.csv` will appear in the `Files` folder.\n",
        "   You need to loaded the file as a DataFrame.  \n",
        "\n",
        "\n"
      ],
      "metadata": {
        "id": "hWY_BLnnWuEH"
      }
    },
    {
      "cell_type": "code",
      "source": [],
      "metadata": {
        "id": "g1KB69V5Wtg5"
      },
      "execution_count": null,
      "outputs": []
    },
    {
      "cell_type": "markdown",
      "source": [
        "## 2. **Select features:**  \n",
        "\n",
        "   - Choose **two features** as inputs for the model.  \n",
        "   - Identify **one feature** to use as the output for the model.  \n",
        "\n",
        "  #### Advice:  \n",
        "  - You can refer to the paper available in the GitHub repository for insights into the dataset and guidance on identifying key features for the input and output.  \n",
        "  - Alternatively, consider creating pair plots or using other EDA methods we learned in the last lecture to explore the relationships between features and determine which ones are most relevant.  \n"
      ],
      "metadata": {
        "id": "TEHB7g0tdk1Y"
      }
    },
    {
      "cell_type": "code",
      "source": [],
      "metadata": {
        "id": "UA7GX4gMdxGf"
      },
      "execution_count": null,
      "outputs": []
    },
    {
      "cell_type": "markdown",
      "source": [
        "## 3. **Scale the data:**\n",
        "\n",
        "   Apply the `MinMaxScaler` to scale the two input columns to a range between 0 and 1.  \n"
      ],
      "metadata": {
        "id": "S0WSZq99WyvB"
      }
    },
    {
      "cell_type": "code",
      "source": [],
      "metadata": {
        "id": "HGdRn2P6WeuC"
      },
      "execution_count": null,
      "outputs": []
    },
    {
      "cell_type": "markdown",
      "source": [
        "## 4. **Split the data:**\n",
        "\n",
        "   Divide the dataset into a training set and a validation set.\n",
        "\n",
        "\n",
        "\n"
      ],
      "metadata": {
        "id": "O3VowsT1XVkY"
      }
    },
    {
      "cell_type": "code",
      "source": [],
      "metadata": {
        "id": "2ycT-D2FYVWf"
      },
      "execution_count": null,
      "outputs": []
    },
    {
      "cell_type": "markdown",
      "source": [
        "## 5. **Choose a model:**  \n",
        "\n",
        "   Select a model to train on the data.  \n",
        "\n",
        "   #### Advice:  \n",
        "   - Consider using the model discussed in the paper from the GitHub repository as a reference.  \n"
      ],
      "metadata": {
        "id": "HYaq4tmqYV6C"
      }
    },
    {
      "cell_type": "code",
      "source": [],
      "metadata": {
        "id": "3046tEKrhPlz"
      },
      "execution_count": null,
      "outputs": []
    },
    {
      "cell_type": "markdown",
      "source": [
        "# 6. **Test the accuracy:**  \n",
        "\n",
        "   Evaluate the model's accuracy on the test set. Ensure that the accuracy is at least **0.8**.  \n"
      ],
      "metadata": {
        "id": "wz0m7c_MYpei"
      }
    },
    {
      "cell_type": "code",
      "source": [],
      "metadata": {
        "id": "1fN3T8xGYu1U"
      },
      "execution_count": null,
      "outputs": []
    },
    {
      "cell_type": "markdown",
      "source": [
        "## 7. **Save and upload the model:**  \n",
        "\n",
        "   After you are happy with your results, save the model with the `.joblib` extension and upload it to your GitHub repository main folder.\n",
        "   \n",
        "   Additionally, update the `config.yaml` file with the list of selected features and the model's joblib file name.  \n",
        "\n",
        "\n",
        "example:  \n",
        "```yaml\n",
        "selected_features: [\"A\", \"B\"]  \n",
        "path: \"my_model.joblib\"  \n",
        "```"
      ],
      "metadata": {
        "id": "MSsFRlk2cNyH"
      }
    },
    {
      "cell_type": "code",
      "source": [
        "import joblib\n",
        "\n",
        "joblib.dump(model, 'my_model.joblib')"
      ],
      "metadata": {
        "id": "7X4gb6vGgyoZ"
      },
      "execution_count": null,
      "outputs": []
    },
    {
      "cell_type": "markdown",
      "source": [
        "## 8. **Copy the code:**  \n",
        "\n",
        "   Copy and paste all the code from this notebook into a `main.py` file in the GitHub repository.  \n"
      ],
      "metadata": {
        "id": "GiUXpS7FgAmd"
      }
    }
  ]
}